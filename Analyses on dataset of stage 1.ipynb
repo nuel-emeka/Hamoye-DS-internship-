{
 "cells": [
  {
   "cell_type": "markdown",
   "metadata": {},
   "source": [
    "# Importing useful Libaries"
   ]
  },
  {
   "cell_type": "code",
   "execution_count": 1,
   "metadata": {},
   "outputs": [],
   "source": [
    "import pandas as pd\n",
    "import numpy as np\n",
    "import matplotlib.pyplot as plt\n",
    "%matplotlib inline"
   ]
  },
  {
   "cell_type": "markdown",
   "metadata": {},
   "source": [
    "# Uploading dataset from local file directory "
   ]
  },
  {
   "cell_type": "code",
   "execution_count": 2,
   "metadata": {},
   "outputs": [
    {
     "data": {
      "text/html": [
       "<div>\n",
       "<style scoped>\n",
       "    .dataframe tbody tr th:only-of-type {\n",
       "        vertical-align: middle;\n",
       "    }\n",
       "\n",
       "    .dataframe tbody tr th {\n",
       "        vertical-align: top;\n",
       "    }\n",
       "\n",
       "    .dataframe thead th {\n",
       "        text-align: right;\n",
       "    }\n",
       "</style>\n",
       "<table border=\"1\" class=\"dataframe\">\n",
       "  <thead>\n",
       "    <tr style=\"text-align: right;\">\n",
       "      <th></th>\n",
       "      <th>record_id</th>\n",
       "      <th>utility_id_ferc1</th>\n",
       "      <th>report_year</th>\n",
       "      <th>plant_name_ferc1</th>\n",
       "      <th>fuel_type_code_pudl</th>\n",
       "      <th>fuel_unit</th>\n",
       "      <th>fuel_qty_burned</th>\n",
       "      <th>fuel_mmbtu_per_unit</th>\n",
       "      <th>fuel_cost_per_unit_burned</th>\n",
       "      <th>fuel_cost_per_unit_delivered</th>\n",
       "      <th>fuel_cost_per_mmbtu</th>\n",
       "    </tr>\n",
       "  </thead>\n",
       "  <tbody>\n",
       "    <tr>\n",
       "      <th>0</th>\n",
       "      <td>f1_fuel_1994_12_1_0_7</td>\n",
       "      <td>1</td>\n",
       "      <td>1994</td>\n",
       "      <td>rockport</td>\n",
       "      <td>coal</td>\n",
       "      <td>ton</td>\n",
       "      <td>5377489.0</td>\n",
       "      <td>16.590</td>\n",
       "      <td>18.59</td>\n",
       "      <td>18.53</td>\n",
       "      <td>1.121</td>\n",
       "    </tr>\n",
       "    <tr>\n",
       "      <th>1</th>\n",
       "      <td>f1_fuel_1994_12_1_0_10</td>\n",
       "      <td>1</td>\n",
       "      <td>1994</td>\n",
       "      <td>rockport total plant</td>\n",
       "      <td>coal</td>\n",
       "      <td>ton</td>\n",
       "      <td>10486945.0</td>\n",
       "      <td>16.592</td>\n",
       "      <td>18.58</td>\n",
       "      <td>18.53</td>\n",
       "      <td>1.120</td>\n",
       "    </tr>\n",
       "    <tr>\n",
       "      <th>2</th>\n",
       "      <td>f1_fuel_1994_12_2_0_1</td>\n",
       "      <td>2</td>\n",
       "      <td>1994</td>\n",
       "      <td>gorgas</td>\n",
       "      <td>coal</td>\n",
       "      <td>ton</td>\n",
       "      <td>2978683.0</td>\n",
       "      <td>24.130</td>\n",
       "      <td>39.72</td>\n",
       "      <td>38.12</td>\n",
       "      <td>1.650</td>\n",
       "    </tr>\n",
       "    <tr>\n",
       "      <th>3</th>\n",
       "      <td>f1_fuel_1994_12_2_0_7</td>\n",
       "      <td>2</td>\n",
       "      <td>1994</td>\n",
       "      <td>barry</td>\n",
       "      <td>coal</td>\n",
       "      <td>ton</td>\n",
       "      <td>3739484.0</td>\n",
       "      <td>23.950</td>\n",
       "      <td>47.21</td>\n",
       "      <td>45.99</td>\n",
       "      <td>1.970</td>\n",
       "    </tr>\n",
       "    <tr>\n",
       "      <th>4</th>\n",
       "      <td>f1_fuel_1994_12_2_0_10</td>\n",
       "      <td>2</td>\n",
       "      <td>1994</td>\n",
       "      <td>chickasaw</td>\n",
       "      <td>gas</td>\n",
       "      <td>mcf</td>\n",
       "      <td>40533.0</td>\n",
       "      <td>1.000</td>\n",
       "      <td>2.77</td>\n",
       "      <td>2.77</td>\n",
       "      <td>2.570</td>\n",
       "    </tr>\n",
       "  </tbody>\n",
       "</table>\n",
       "</div>"
      ],
      "text/plain": [
       "                record_id  utility_id_ferc1  report_year  \\\n",
       "0   f1_fuel_1994_12_1_0_7                 1         1994   \n",
       "1  f1_fuel_1994_12_1_0_10                 1         1994   \n",
       "2   f1_fuel_1994_12_2_0_1                 2         1994   \n",
       "3   f1_fuel_1994_12_2_0_7                 2         1994   \n",
       "4  f1_fuel_1994_12_2_0_10                 2         1994   \n",
       "\n",
       "       plant_name_ferc1 fuel_type_code_pudl fuel_unit  fuel_qty_burned  \\\n",
       "0              rockport                coal       ton        5377489.0   \n",
       "1  rockport total plant                coal       ton       10486945.0   \n",
       "2                gorgas                coal       ton        2978683.0   \n",
       "3                 barry                coal       ton        3739484.0   \n",
       "4             chickasaw                 gas       mcf          40533.0   \n",
       "\n",
       "   fuel_mmbtu_per_unit  fuel_cost_per_unit_burned  \\\n",
       "0               16.590                      18.59   \n",
       "1               16.592                      18.58   \n",
       "2               24.130                      39.72   \n",
       "3               23.950                      47.21   \n",
       "4                1.000                       2.77   \n",
       "\n",
       "   fuel_cost_per_unit_delivered  fuel_cost_per_mmbtu  \n",
       "0                         18.53                1.121  \n",
       "1                         18.53                1.120  \n",
       "2                         38.12                1.650  \n",
       "3                         45.99                1.970  \n",
       "4                          2.77                2.570  "
      ]
     },
     "execution_count": 2,
     "metadata": {},
     "output_type": "execute_result"
    }
   ],
   "source": [
    "#Use data = pd.read_csv(\"link/url to data.csv\") to get the data\n",
    "data = pd.read_csv('fuel_ferc1.csv')\n",
    "data.head()"
   ]
  },
  {
   "cell_type": "markdown",
   "metadata": {},
   "source": [
    "# Question 1 : Operational cost of for each plant"
   ]
  },
  {
   "cell_type": "markdown",
   "metadata": {},
   "source": [
    "There are three costs included in the dataset \n",
    "   * fuel_cost_per_unit_burned \n",
    "   * fuel_cost_per_unit_delivered\n",
    "   * fuel_cost_per_mmbtu\n",
    "\n",
    "$$ Fuel\\_cost\\_ burned = fuel\\_qty\\_burned * fuel\\_cost\\_per\\_unit\\_burned ---------(1) $$\n",
    "$$ fuel\\_cost\\_ mmbtu = fuel\\_qty\\_burned * fuel\\_mmbtu\\_per\\_unit * fuel\\_cost\\_per\\_mmbtu ------(2) $$\n",
    "On the assumption that, 100% of fuel delivered was fuel burnt.\n",
    "$$ fuel\\_qty\\_burned = fuel\\_qty\\_delivered $$\n",
    "Therefore, $$ fuel\\_cost\\_delivered = fuel\\_qty\\_burned * fuel\\_cost\\_per\\_unit\\_delivered -----(3) $$\n",
    "Since Operational cost would be the addition of all cost but since the fuel cost on quantity burnt would mean same as fuel cost on energy produced by fuel burnt. We then disregard the fuel cost on energy produced.\n",
    "$$ operational\\_cost = Fuel\\_cost\\_ burned * fuel\\_cost\\_delivered ------(4) $$"
   ]
  },
  {
   "cell_type": "code",
   "execution_count": 3,
   "metadata": {},
   "outputs": [
    {
     "data": {
      "text/html": [
       "<div>\n",
       "<style scoped>\n",
       "    .dataframe tbody tr th:only-of-type {\n",
       "        vertical-align: middle;\n",
       "    }\n",
       "\n",
       "    .dataframe tbody tr th {\n",
       "        vertical-align: top;\n",
       "    }\n",
       "\n",
       "    .dataframe thead th {\n",
       "        text-align: right;\n",
       "    }\n",
       "</style>\n",
       "<table border=\"1\" class=\"dataframe\">\n",
       "  <thead>\n",
       "    <tr style=\"text-align: right;\">\n",
       "      <th></th>\n",
       "      <th>record_id</th>\n",
       "      <th>utility_id_ferc1</th>\n",
       "      <th>report_year</th>\n",
       "      <th>plant_name_ferc1</th>\n",
       "      <th>fuel_type_code_pudl</th>\n",
       "      <th>fuel_unit</th>\n",
       "      <th>fuel_qty_burned</th>\n",
       "      <th>fuel_mmbtu_per_unit</th>\n",
       "      <th>fuel_cost_per_unit_burned</th>\n",
       "      <th>fuel_cost_per_unit_delivered</th>\n",
       "      <th>fuel_cost_per_mmbtu</th>\n",
       "      <th>fuel_cost_burned</th>\n",
       "      <th>fuel_cost_delivered</th>\n",
       "      <th>fuel_cost_mmbtu</th>\n",
       "      <th>operational_cost</th>\n",
       "    </tr>\n",
       "  </thead>\n",
       "  <tbody>\n",
       "    <tr>\n",
       "      <th>0</th>\n",
       "      <td>f1_fuel_1994_12_1_0_7</td>\n",
       "      <td>1</td>\n",
       "      <td>1994</td>\n",
       "      <td>rockport</td>\n",
       "      <td>coal</td>\n",
       "      <td>ton</td>\n",
       "      <td>5377489.0</td>\n",
       "      <td>16.590</td>\n",
       "      <td>18.59</td>\n",
       "      <td>18.53</td>\n",
       "      <td>1.121</td>\n",
       "      <td>9.996752e+07</td>\n",
       "      <td>9.964487e+07</td>\n",
       "      <td>1.000073e+08</td>\n",
       "      <td>1.996124e+08</td>\n",
       "    </tr>\n",
       "    <tr>\n",
       "      <th>1</th>\n",
       "      <td>f1_fuel_1994_12_1_0_10</td>\n",
       "      <td>1</td>\n",
       "      <td>1994</td>\n",
       "      <td>rockport total plant</td>\n",
       "      <td>coal</td>\n",
       "      <td>ton</td>\n",
       "      <td>10486945.0</td>\n",
       "      <td>16.592</td>\n",
       "      <td>18.58</td>\n",
       "      <td>18.53</td>\n",
       "      <td>1.120</td>\n",
       "      <td>1.948474e+08</td>\n",
       "      <td>1.943231e+08</td>\n",
       "      <td>1.948793e+08</td>\n",
       "      <td>3.891705e+08</td>\n",
       "    </tr>\n",
       "    <tr>\n",
       "      <th>2</th>\n",
       "      <td>f1_fuel_1994_12_2_0_1</td>\n",
       "      <td>2</td>\n",
       "      <td>1994</td>\n",
       "      <td>gorgas</td>\n",
       "      <td>coal</td>\n",
       "      <td>ton</td>\n",
       "      <td>2978683.0</td>\n",
       "      <td>24.130</td>\n",
       "      <td>39.72</td>\n",
       "      <td>38.12</td>\n",
       "      <td>1.650</td>\n",
       "      <td>1.183133e+08</td>\n",
       "      <td>1.135474e+08</td>\n",
       "      <td>1.185948e+08</td>\n",
       "      <td>2.318607e+08</td>\n",
       "    </tr>\n",
       "    <tr>\n",
       "      <th>3</th>\n",
       "      <td>f1_fuel_1994_12_2_0_7</td>\n",
       "      <td>2</td>\n",
       "      <td>1994</td>\n",
       "      <td>barry</td>\n",
       "      <td>coal</td>\n",
       "      <td>ton</td>\n",
       "      <td>3739484.0</td>\n",
       "      <td>23.950</td>\n",
       "      <td>47.21</td>\n",
       "      <td>45.99</td>\n",
       "      <td>1.970</td>\n",
       "      <td>1.765410e+08</td>\n",
       "      <td>1.719789e+08</td>\n",
       "      <td>1.764345e+08</td>\n",
       "      <td>3.485199e+08</td>\n",
       "    </tr>\n",
       "    <tr>\n",
       "      <th>4</th>\n",
       "      <td>f1_fuel_1994_12_2_0_10</td>\n",
       "      <td>2</td>\n",
       "      <td>1994</td>\n",
       "      <td>chickasaw</td>\n",
       "      <td>gas</td>\n",
       "      <td>mcf</td>\n",
       "      <td>40533.0</td>\n",
       "      <td>1.000</td>\n",
       "      <td>2.77</td>\n",
       "      <td>2.77</td>\n",
       "      <td>2.570</td>\n",
       "      <td>1.122764e+05</td>\n",
       "      <td>1.122764e+05</td>\n",
       "      <td>1.041698e+05</td>\n",
       "      <td>2.245528e+05</td>\n",
       "    </tr>\n",
       "  </tbody>\n",
       "</table>\n",
       "</div>"
      ],
      "text/plain": [
       "                record_id  utility_id_ferc1  report_year  \\\n",
       "0   f1_fuel_1994_12_1_0_7                 1         1994   \n",
       "1  f1_fuel_1994_12_1_0_10                 1         1994   \n",
       "2   f1_fuel_1994_12_2_0_1                 2         1994   \n",
       "3   f1_fuel_1994_12_2_0_7                 2         1994   \n",
       "4  f1_fuel_1994_12_2_0_10                 2         1994   \n",
       "\n",
       "       plant_name_ferc1 fuel_type_code_pudl fuel_unit  fuel_qty_burned  \\\n",
       "0              rockport                coal       ton        5377489.0   \n",
       "1  rockport total plant                coal       ton       10486945.0   \n",
       "2                gorgas                coal       ton        2978683.0   \n",
       "3                 barry                coal       ton        3739484.0   \n",
       "4             chickasaw                 gas       mcf          40533.0   \n",
       "\n",
       "   fuel_mmbtu_per_unit  fuel_cost_per_unit_burned  \\\n",
       "0               16.590                      18.59   \n",
       "1               16.592                      18.58   \n",
       "2               24.130                      39.72   \n",
       "3               23.950                      47.21   \n",
       "4                1.000                       2.77   \n",
       "\n",
       "   fuel_cost_per_unit_delivered  fuel_cost_per_mmbtu  fuel_cost_burned  \\\n",
       "0                         18.53                1.121      9.996752e+07   \n",
       "1                         18.53                1.120      1.948474e+08   \n",
       "2                         38.12                1.650      1.183133e+08   \n",
       "3                         45.99                1.970      1.765410e+08   \n",
       "4                          2.77                2.570      1.122764e+05   \n",
       "\n",
       "   fuel_cost_delivered  fuel_cost_mmbtu  operational_cost  \n",
       "0         9.964487e+07     1.000073e+08      1.996124e+08  \n",
       "1         1.943231e+08     1.948793e+08      3.891705e+08  \n",
       "2         1.135474e+08     1.185948e+08      2.318607e+08  \n",
       "3         1.719789e+08     1.764345e+08      3.485199e+08  \n",
       "4         1.122764e+05     1.041698e+05      2.245528e+05  "
      ]
     },
     "execution_count": 3,
     "metadata": {},
     "output_type": "execute_result"
    }
   ],
   "source": [
    "data['fuel_cost_burned'] = data['fuel_qty_burned'] * data['fuel_cost_per_unit_burned']\n",
    "data['fuel_cost_delivered'] =  data['fuel_qty_burned'] * data['fuel_cost_per_unit_delivered']\n",
    "data['fuel_cost_mmbtu'] = data['fuel_qty_burned'] * data['fuel_mmbtu_per_unit'] * data['fuel_cost_per_mmbtu']\n",
    "data['operational_cost'] = data['fuel_cost_burned'] + data['fuel_cost_delivered']\n",
    "data.head()"
   ]
  },
  {
   "cell_type": "markdown",
   "metadata": {},
   "source": [
    "# Question 2 : How fuel cost impacts the viability of different generation sources."
   ]
  },
  {
   "cell_type": "code",
   "execution_count": 4,
   "metadata": {},
   "outputs": [
    {
     "data": {
      "text/html": [
       "<div>\n",
       "<style scoped>\n",
       "    .dataframe tbody tr th:only-of-type {\n",
       "        vertical-align: middle;\n",
       "    }\n",
       "\n",
       "    .dataframe tbody tr th {\n",
       "        vertical-align: top;\n",
       "    }\n",
       "\n",
       "    .dataframe thead th {\n",
       "        text-align: right;\n",
       "    }\n",
       "</style>\n",
       "<table border=\"1\" class=\"dataframe\">\n",
       "  <thead>\n",
       "    <tr style=\"text-align: right;\">\n",
       "      <th></th>\n",
       "      <th>record_id</th>\n",
       "      <th>utility_id_ferc1</th>\n",
       "      <th>report_year</th>\n",
       "      <th>plant_name_ferc1</th>\n",
       "      <th>fuel_type_code_pudl</th>\n",
       "      <th>fuel_unit</th>\n",
       "      <th>fuel_qty_burned</th>\n",
       "      <th>fuel_mmbtu_per_unit</th>\n",
       "      <th>fuel_cost_per_unit_burned</th>\n",
       "      <th>fuel_cost_per_unit_delivered</th>\n",
       "      <th>fuel_cost_per_mmbtu</th>\n",
       "    </tr>\n",
       "  </thead>\n",
       "  <tbody>\n",
       "    <tr>\n",
       "      <th>0</th>\n",
       "      <td>f1_fuel_1994_12_1_0_7</td>\n",
       "      <td>1</td>\n",
       "      <td>1994</td>\n",
       "      <td>rockport</td>\n",
       "      <td>coal</td>\n",
       "      <td>ton</td>\n",
       "      <td>5377489.0</td>\n",
       "      <td>16.590</td>\n",
       "      <td>18.59</td>\n",
       "      <td>18.53</td>\n",
       "      <td>1.121</td>\n",
       "    </tr>\n",
       "    <tr>\n",
       "      <th>1</th>\n",
       "      <td>f1_fuel_1994_12_1_0_10</td>\n",
       "      <td>1</td>\n",
       "      <td>1994</td>\n",
       "      <td>rockport total plant</td>\n",
       "      <td>coal</td>\n",
       "      <td>ton</td>\n",
       "      <td>10486945.0</td>\n",
       "      <td>16.592</td>\n",
       "      <td>18.58</td>\n",
       "      <td>18.53</td>\n",
       "      <td>1.120</td>\n",
       "    </tr>\n",
       "    <tr>\n",
       "      <th>2</th>\n",
       "      <td>f1_fuel_1994_12_2_0_1</td>\n",
       "      <td>2</td>\n",
       "      <td>1994</td>\n",
       "      <td>gorgas</td>\n",
       "      <td>coal</td>\n",
       "      <td>ton</td>\n",
       "      <td>2978683.0</td>\n",
       "      <td>24.130</td>\n",
       "      <td>39.72</td>\n",
       "      <td>38.12</td>\n",
       "      <td>1.650</td>\n",
       "    </tr>\n",
       "    <tr>\n",
       "      <th>3</th>\n",
       "      <td>f1_fuel_1994_12_2_0_7</td>\n",
       "      <td>2</td>\n",
       "      <td>1994</td>\n",
       "      <td>barry</td>\n",
       "      <td>coal</td>\n",
       "      <td>ton</td>\n",
       "      <td>3739484.0</td>\n",
       "      <td>23.950</td>\n",
       "      <td>47.21</td>\n",
       "      <td>45.99</td>\n",
       "      <td>1.970</td>\n",
       "    </tr>\n",
       "    <tr>\n",
       "      <th>4</th>\n",
       "      <td>f1_fuel_1994_12_2_0_10</td>\n",
       "      <td>2</td>\n",
       "      <td>1994</td>\n",
       "      <td>chickasaw</td>\n",
       "      <td>gas</td>\n",
       "      <td>mcf</td>\n",
       "      <td>40533.0</td>\n",
       "      <td>1.000</td>\n",
       "      <td>2.77</td>\n",
       "      <td>2.77</td>\n",
       "      <td>2.570</td>\n",
       "    </tr>\n",
       "  </tbody>\n",
       "</table>\n",
       "</div>"
      ],
      "text/plain": [
       "                record_id  utility_id_ferc1  report_year  \\\n",
       "0   f1_fuel_1994_12_1_0_7                 1         1994   \n",
       "1  f1_fuel_1994_12_1_0_10                 1         1994   \n",
       "2   f1_fuel_1994_12_2_0_1                 2         1994   \n",
       "3   f1_fuel_1994_12_2_0_7                 2         1994   \n",
       "4  f1_fuel_1994_12_2_0_10                 2         1994   \n",
       "\n",
       "       plant_name_ferc1 fuel_type_code_pudl fuel_unit  fuel_qty_burned  \\\n",
       "0              rockport                coal       ton        5377489.0   \n",
       "1  rockport total plant                coal       ton       10486945.0   \n",
       "2                gorgas                coal       ton        2978683.0   \n",
       "3                 barry                coal       ton        3739484.0   \n",
       "4             chickasaw                 gas       mcf          40533.0   \n",
       "\n",
       "   fuel_mmbtu_per_unit  fuel_cost_per_unit_burned  \\\n",
       "0               16.590                      18.59   \n",
       "1               16.592                      18.58   \n",
       "2               24.130                      39.72   \n",
       "3               23.950                      47.21   \n",
       "4                1.000                       2.77   \n",
       "\n",
       "   fuel_cost_per_unit_delivered  fuel_cost_per_mmbtu  \n",
       "0                         18.53                1.121  \n",
       "1                         18.53                1.120  \n",
       "2                         38.12                1.650  \n",
       "3                         45.99                1.970  \n",
       "4                          2.77                2.570  "
      ]
     },
     "execution_count": 4,
     "metadata": {},
     "output_type": "execute_result"
    }
   ],
   "source": [
    "data = pd.read_csv('fuel_ferc1.csv')\n",
    "data.head()"
   ]
  },
  {
   "cell_type": "markdown",
   "metadata": {},
   "source": [
    "The viability of each fuel type is judged according to how much of it was burned as that wouold clearly show how much was used up as a source of power(electricity) generation.\n",
    "\n"
   ]
  },
  {
   "cell_type": "code",
   "execution_count": 5,
   "metadata": {},
   "outputs": [],
   "source": [
    "param = ['report_year', 'fuel_cost_per_unit_burned', 'fuel_qty_burned']\n",
    "for code in data['fuel_type_code_pudl'].unique():\n",
    "    if code=='coal':\n",
    "        coal = data.loc[data['fuel_type_code_pudl']==code, param]\n",
    "    elif code=='gas':\n",
    "        gas = data.loc[data['fuel_type_code_pudl']==code, param]\n",
    "    elif code=='nuclear':\n",
    "        nuclear = data.loc[data['fuel_type_code_pudl']==code, param]\n",
    "    elif code=='oil':\n",
    "        oil = data.loc[data['fuel_type_code_pudl']==code, param]\n",
    "    elif code=='waste':\n",
    "        waste = data.loc[data['fuel_type_code_pudl']==code, param]\n",
    "    elif code=='other':\n",
    "        other = data.loc[data['fuel_type_code_pudl']==code, param]"
   ]
  },
  {
   "cell_type": "code",
   "execution_count": 6,
   "metadata": {},
   "outputs": [
    {
     "data": {
      "image/png": "[encoded data removed]",
      "text/plain": [
       "<Figure size 1224x1080 with 6 Axes>"
      ]
     },
     "metadata": {
      "needs_background": "light"
     },
     "output_type": "display_data"
    }
   ],
   "source": [
    "datas = [coal, gas, nuclear, oil, waste, other]\n",
    "titles = ['coal', 'gas', 'nuclear', 'oil', 'waste', 'other']\n",
    "fig, ((ax1,ax2),(ax3,ax4),(ax5,ax6)) = plt.subplots(figsize=(17,15), nrows=3, ncols=2)\n",
    "for data, axis, title in zip(datas, [ax1,ax2,ax3,ax4,ax5,ax6], titles):\n",
    "    axis.scatter('fuel_cost_per_unit_burned', 'fuel_qty_burned', data=data, label=title)\n",
    "    axis.set(xlabel= 'fuel cost', ylabel='Quantity burned')\n",
    "    axis.set_title(title.upper(), fontsize=15)\n",
    "    axis.legend()"
   ]
  },
  {
   "cell_type": "markdown",
   "metadata": {},
   "source": [
    "As was expected, we can see from the charts that the lower the fuel cost, the more viable it becomes. Consumption on each fuel source was seen to be at its greatest around 0 where it shows its the least cost. Conversely, the least consumption was recorded at extreme values of fuel cost."
   ]
  },
  {
   "cell_type": "markdown",
   "metadata": {},
   "source": [
    "# Question 3 : Competitiveness of renewable electricity"
   ]
  },
  {
   "cell_type": "markdown",
   "metadata": {},
   "source": [
    "The competitiveness of renewable electricity was analyzed here, based on the quantity of fuel burned rather than how many plants utilized each fuel type (coal, gas, nuclear, other, waste and oil) over the years from 1994 to 2018.\n"
   ]
  },
  {
   "cell_type": "markdown",
   "metadata": {},
   "source": [
    "## getting our data ready"
   ]
  },
  {
   "cell_type": "markdown",
   "metadata": {},
   "source": [
    "Defining functions that would get the total quantity of fuel burnt for each fuel type in a particular. The function takes the argument \"year\" signifying the Report year data required."
   ]
  },
  {
   "cell_type": "code",
   "execution_count": 7,
   "metadata": {},
   "outputs": [],
   "source": [
    "data = pd.read_csv('fuel_ferc1.csv')"
   ]
  },
  {
   "cell_type": "code",
   "execution_count": 8,
   "metadata": {},
   "outputs": [],
   "source": [
    "def get_coal_qty(year):\n",
    "    qty = data[(data['report_year']==year) & (data['fuel_type_code_pudl']=='coal')]['fuel_qty_burned'].sum()\n",
    "    return qty"
   ]
  },
  {
   "cell_type": "code",
   "execution_count": 9,
   "metadata": {},
   "outputs": [],
   "source": [
    "def get_gas_qty(year):\n",
    "    qty = data[(data['report_year']==year) & (data['fuel_type_code_pudl']=='gas')]['fuel_qty_burned'].sum()\n",
    "    return qty"
   ]
  },
  {
   "cell_type": "code",
   "execution_count": 10,
   "metadata": {},
   "outputs": [],
   "source": [
    "def get_nuclear_qty(year):\n",
    "    qty = data[(data['report_year']==year) & (data['fuel_type_code_pudl']=='nuclear')]['fuel_qty_burned'].sum()\n",
    "    return qty"
   ]
  },
  {
   "cell_type": "code",
   "execution_count": 11,
   "metadata": {},
   "outputs": [],
   "source": [
    "def get_oil_qty(year):\n",
    "    qty = data[(data['report_year']==year) & (data['fuel_type_code_pudl']=='oil')]['fuel_qty_burned'].sum()\n",
    "    return qty"
   ]
  },
  {
   "cell_type": "code",
   "execution_count": 12,
   "metadata": {},
   "outputs": [],
   "source": [
    "def get_waste_qty(year):\n",
    "    qty = data[(data['report_year']==year) & (data['fuel_type_code_pudl']=='waste')]['fuel_qty_burned'].sum()\n",
    "    return qty"
   ]
  },
  {
   "cell_type": "code",
   "execution_count": 13,
   "metadata": {},
   "outputs": [],
   "source": [
    "def get_other_qty(year):\n",
    "    qty = data[(data['report_year']==year) & (data['fuel_type_code_pudl']=='other')]['fuel_qty_burned'].sum()\n",
    "    return qty"
   ]
  },
  {
   "cell_type": "markdown",
   "metadata": {},
   "source": [
    "### Compilation of data"
   ]
  },
  {
   "cell_type": "markdown",
   "metadata": {},
   "source": [
    "Storing all total quantity of fuel burnt for each year in their respective object variable."
   ]
  },
  {
   "cell_type": "code",
   "execution_count": 14,
   "metadata": {},
   "outputs": [],
   "source": [
    "coal_qty = [get_coal_qty(year) for year in data[\"report_year\"].unique()]\n",
    "gas_qty = [get_gas_qty(year) for year in data[\"report_year\"].unique()]\n",
    "nuclear_qty = [get_nuclear_qty(year) for year in data[\"report_year\"].unique()]\n",
    "oil_qty = [get_oil_qty(year) for year in data[\"report_year\"].unique()]\n",
    "waste_qty = [get_waste_qty(year) for year in data[\"report_year\"].unique()]\n",
    "other_qty = [get_other_qty(year) for year in data[\"report_year\"].unique()]\n",
    "years = [i for i in data['report_year'].unique()]"
   ]
  },
  {
   "cell_type": "markdown",
   "metadata": {},
   "source": [
    "### A view of our data"
   ]
  },
  {
   "cell_type": "code",
   "execution_count": 15,
   "metadata": {},
   "outputs": [
    {
     "data": {
      "text/html": [
       "<div>\n",
       "<style scoped>\n",
       "    .dataframe tbody tr th:only-of-type {\n",
       "        vertical-align: middle;\n",
       "    }\n",
       "\n",
       "    .dataframe tbody tr th {\n",
       "        vertical-align: top;\n",
       "    }\n",
       "\n",
       "    .dataframe thead th {\n",
       "        text-align: right;\n",
       "    }\n",
       "</style>\n",
       "<table border=\"1\" class=\"dataframe\">\n",
       "  <thead>\n",
       "    <tr style=\"text-align: right;\">\n",
       "      <th></th>\n",
       "      <th>year</th>\n",
       "      <th>coal</th>\n",
       "      <th>gas</th>\n",
       "      <th>nuclear</th>\n",
       "      <th>oil</th>\n",
       "      <th>waste</th>\n",
       "      <th>other</th>\n",
       "    </tr>\n",
       "  </thead>\n",
       "  <tbody>\n",
       "    <tr>\n",
       "      <th>0</th>\n",
       "      <td>1994</td>\n",
       "      <td>7.172082e+08</td>\n",
       "      <td>2.432212e+09</td>\n",
       "      <td>206936645.0</td>\n",
       "      <td>1469716.0</td>\n",
       "      <td>1242241.0</td>\n",
       "      <td>5094458.0</td>\n",
       "    </tr>\n",
       "    <tr>\n",
       "      <th>1</th>\n",
       "      <td>1995</td>\n",
       "      <td>1.257398e+09</td>\n",
       "      <td>2.570880e+09</td>\n",
       "      <td>205408058.0</td>\n",
       "      <td>809178.0</td>\n",
       "      <td>1642051.0</td>\n",
       "      <td>422054754.0</td>\n",
       "    </tr>\n",
       "    <tr>\n",
       "      <th>2</th>\n",
       "      <td>1996</td>\n",
       "      <td>6.988514e+08</td>\n",
       "      <td>1.915218e+09</td>\n",
       "      <td>148738376.0</td>\n",
       "      <td>3637754.0</td>\n",
       "      <td>1102632.0</td>\n",
       "      <td>1144943.0</td>\n",
       "    </tr>\n",
       "    <tr>\n",
       "      <th>3</th>\n",
       "      <td>1997</td>\n",
       "      <td>8.169024e+08</td>\n",
       "      <td>2.039925e+09</td>\n",
       "      <td>162556374.0</td>\n",
       "      <td>53849314.0</td>\n",
       "      <td>1528774.0</td>\n",
       "      <td>3211371.0</td>\n",
       "    </tr>\n",
       "    <tr>\n",
       "      <th>4</th>\n",
       "      <td>1998</td>\n",
       "      <td>8.982095e+08</td>\n",
       "      <td>2.554651e+09</td>\n",
       "      <td>150463637.0</td>\n",
       "      <td>543608.0</td>\n",
       "      <td>1624599.0</td>\n",
       "      <td>11577962.0</td>\n",
       "    </tr>\n",
       "  </tbody>\n",
       "</table>\n",
       "</div>"
      ],
      "text/plain": [
       "   year          coal           gas      nuclear         oil      waste  \\\n",
       "0  1994  7.172082e+08  2.432212e+09  206936645.0   1469716.0  1242241.0   \n",
       "1  1995  1.257398e+09  2.570880e+09  205408058.0    809178.0  1642051.0   \n",
       "2  1996  6.988514e+08  1.915218e+09  148738376.0   3637754.0  1102632.0   \n",
       "3  1997  8.169024e+08  2.039925e+09  162556374.0  53849314.0  1528774.0   \n",
       "4  1998  8.982095e+08  2.554651e+09  150463637.0    543608.0  1624599.0   \n",
       "\n",
       "         other  \n",
       "0    5094458.0  \n",
       "1  422054754.0  \n",
       "2    1144943.0  \n",
       "3    3211371.0  \n",
       "4   11577962.0  "
      ]
     },
     "execution_count": 15,
     "metadata": {},
     "output_type": "execute_result"
    }
   ],
   "source": [
    "df = pd.DataFrame({'year': years, 'coal': coal_qty, 'gas': gas_qty, 'nuclear': nuclear_qty, 'oil': oil_qty, 'waste': waste_qty, 'other': other_qty, })\n",
    "df.head()"
   ]
  },
  {
   "cell_type": "markdown",
   "metadata": {},
   "source": [
    "This data has the Total Quantity of each fuel burnt per year in the data report year."
   ]
  },
  {
   "cell_type": "markdown",
   "metadata": {},
   "source": [
    "### FIG 1,2 & 3 contains bars and line chart of the Total Quantity burnt versus the Year for each fuel type"
   ]
  },
  {
   "cell_type": "markdown",
   "metadata": {},
   "source": [
    "##### The 6 fuel source were splitted into 2 charts to reduce ambiguity of the data thus making it more readable and visible"
   ]
  },
  {
   "cell_type": "code",
   "execution_count": 16,
   "metadata": {},
   "outputs": [
    {
     "data": {
      "image/png": "[encoded data removed]",
      "text/plain": [
       "<Figure size 1152x432 with 1 Axes>"
      ]
     },
     "metadata": {
      "needs_background": "light"
     },
     "output_type": "display_data"
    }
   ],
   "source": [
    "fig, ax= plt.subplots(figsize= (16,6))\n",
    "ab = np.arange(len(df))\n",
    "ax.bar(ab, 'coal', color= 'blue', data= df, label= '$coal$', width=0.25)\n",
    "ax.bar([i+0.25 for i in ab], 'gas', color= 'red', data= df, label= '$gas$', width=0.25)\n",
    "ax.bar([i+(0.25*2) for i in ab], 'nuclear', color= 'green', data= df, label= '$nuclear$', width=0.25)\n",
    "\n",
    "\n",
    "ax.set_xlabel('YEAR', fontsize=15)\n",
    "ax.set_ylabel('Total Quantity Burned', fontsize=15)\n",
    "ax.set_title('FIG 1', fontsize=20)\n",
    "ax.set_xticks([i+0.25 for i in ab])\n",
    "ax.set_xticklabels(years, rotation= 45);\n",
    "ax.legend();\n",
    "\n"
   ]
  },
  {
   "cell_type": "markdown",
   "metadata": {},
   "source": [
    "## FIG 1\n",
    "* As can be seen, it combined coal, gas and nuclear sources\n",
    "* Gas tops the chart, followed by Coal and lastly Nuclear\n",
    "* This shows that Gas is the most sort source of fuel amongst the three metioned above"
   ]
  },
  {
   "cell_type": "code",
   "execution_count": 17,
   "metadata": {},
   "outputs": [
    {
     "data": {
      "image/png": "[encoded data removed]",
      "text/plain": [
       "<Figure size 1152x432 with 1 Axes>"
      ]
     },
     "metadata": {
      "needs_background": "light"
     },
     "output_type": "display_data"
    }
   ],
   "source": [
    "fig, ax= plt.subplots(figsize= (16,6))\n",
    "ab = np.arange(len(df))\n",
    "ax.bar(ab, 'oil', color= 'blue', data= df, label= '$oil$', width=0.25)\n",
    "ax.bar([i+0.25 for i in ab], 'waste', color= 'red', data= df, label= '$waste$', width=0.25)\n",
    "ax.bar([i+(0.25*2) for i in ab], 'other', color= 'green', data= df, label= '$other$', width=0.25)\n",
    "\n",
    "ax.set_xlabel('YEAR', fontsize=15)\n",
    "ax.set_ylabel('Total Quantity Burned', fontsize=15)\n",
    "ax.set_title('FIG 2', fontsize=20)\n",
    "ax.set_yscale('log')\n",
    "ax.set_xticks([i+0.25 for i in ab])\n",
    "ax.set_xticklabels(years, rotation= 45)\n",
    "ax.legend();\n",
    "\n"
   ]
  },
  {
   "cell_type": "markdown",
   "metadata": {},
   "source": [
    "## FIG 2\n",
    "* As can be seen, it combined oil, waste and other sources\n",
    "* Genrally, oil seems to top the chart, followed by other and waste but there seemed to be a very high demand for other fuel types in ther year 1995 after which the demand significantly dropped\n"
   ]
  },
  {
   "cell_type": "code",
   "execution_count": 18,
   "metadata": {},
   "outputs": [
    {
     "data": {
      "text/plain": [
       "<matplotlib.legend.Legend at 0xbc289c62e8>"
      ]
     },
     "execution_count": 18,
     "metadata": {},
     "output_type": "execute_result"
    },
    {
     "data": {
      "image/png": "[encoded data removed]",
      "text/plain": [
       "<Figure size 1152x432 with 1 Axes>"
      ]
     },
     "metadata": {},
     "output_type": "display_data"
    }
   ],
   "source": [
    "fig, ax= plt.subplots(figsize= (16,6))\n",
    "\n",
    "ax.plot('coal', 'go-', data= df, label= '$coal$', linewidth=1)\n",
    "ax.plot('gas', 'bo-', data= df, label= '$gas$', linewidth=1)\n",
    "ax.plot('nuclear', 'ro-', data= df, label= '$nuclear$', linewidth=1)\n",
    "ax.plot('oil', 'g^-',  data= df, label= '$oil$', linewidth=1)\n",
    "ax.plot('waste','r^-' , data= df, label= '$waste$', linewidth=1)\n",
    "ax.plot('other', 'b^-', data= df, label= '$other$', linewidth=1)\n",
    "\n",
    "\n",
    "fig.set_facecolor('grey')\n",
    "ax.set_yscale('log')\n",
    "ax.set_xlabel('YEAR', fontsize=15)\n",
    "ax.set_ylabel('Total Quantity Burned', fontsize=15)\n",
    "ax.set_title('FIG 3', fontsize=25)\n",
    "ax.set_xticklabels(years)\n",
    "ax.legend(loc='upper right', bbox_to_anchor=(1.2,1.0))"
   ]
  },
  {
   "cell_type": "markdown",
   "metadata": {},
   "source": [
    "## FIG 3\n",
    "* A combined view of all sources\n",
    "* Generally, below are the order of demand for diff. fuel sources across the years\n",
    "    * Gas\n",
    "    * Coal\n",
    "    * Nuclear\n",
    "    * Oil\n",
    "    * Other\n",
    "    * Waste\n",
    "* It is worthy to note that the demand for \"Other\" fuel type dropped to zero all through 2017 to 2018"
   ]
  },
  {
   "cell_type": "markdown",
   "metadata": {},
   "source": [
    "# Question 4 : Generation mix over time\n",
    "\n",
    "## utility_id_ferc1 = 1 as use case"
   ]
  },
  {
   "cell_type": "code",
   "execution_count": 19,
   "metadata": {},
   "outputs": [
    {
     "data": {
      "text/html": [
       "<div>\n",
       "<style scoped>\n",
       "    .dataframe tbody tr th:only-of-type {\n",
       "        vertical-align: middle;\n",
       "    }\n",
       "\n",
       "    .dataframe tbody tr th {\n",
       "        vertical-align: top;\n",
       "    }\n",
       "\n",
       "    .dataframe thead th {\n",
       "        text-align: right;\n",
       "    }\n",
       "</style>\n",
       "<table border=\"1\" class=\"dataframe\">\n",
       "  <thead>\n",
       "    <tr style=\"text-align: right;\">\n",
       "      <th></th>\n",
       "      <th>fuel_type_code_pudl</th>\n",
       "      <th>fuel_qty_burned</th>\n",
       "    </tr>\n",
       "  </thead>\n",
       "  <tbody>\n",
       "    <tr>\n",
       "      <th>0</th>\n",
       "      <td>coal</td>\n",
       "      <td>5377489.0</td>\n",
       "    </tr>\n",
       "    <tr>\n",
       "      <th>1</th>\n",
       "      <td>coal</td>\n",
       "      <td>10486945.0</td>\n",
       "    </tr>\n",
       "    <tr>\n",
       "      <th>1380</th>\n",
       "      <td>coal</td>\n",
       "      <td>5266522.0</td>\n",
       "    </tr>\n",
       "    <tr>\n",
       "      <th>1381</th>\n",
       "      <td>coal</td>\n",
       "      <td>10379108.0</td>\n",
       "    </tr>\n",
       "    <tr>\n",
       "      <th>3186</th>\n",
       "      <td>coal</td>\n",
       "      <td>5090798.0</td>\n",
       "    </tr>\n",
       "    <tr>\n",
       "      <th>...</th>\n",
       "      <td>...</td>\n",
       "      <td>...</td>\n",
       "    </tr>\n",
       "    <tr>\n",
       "      <th>27954</th>\n",
       "      <td>gas</td>\n",
       "      <td>4007761.0</td>\n",
       "    </tr>\n",
       "    <tr>\n",
       "      <th>28785</th>\n",
       "      <td>coal</td>\n",
       "      <td>3386119.0</td>\n",
       "    </tr>\n",
       "    <tr>\n",
       "      <th>28786</th>\n",
       "      <td>oil</td>\n",
       "      <td>14781.0</td>\n",
       "    </tr>\n",
       "    <tr>\n",
       "      <th>28787</th>\n",
       "      <td>coal</td>\n",
       "      <td>6772238.0</td>\n",
       "    </tr>\n",
       "    <tr>\n",
       "      <th>28788</th>\n",
       "      <td>oil</td>\n",
       "      <td>29563.0</td>\n",
       "    </tr>\n",
       "  </tbody>\n",
       "</table>\n",
       "<p>97 rows × 2 columns</p>\n",
       "</div>"
      ],
      "text/plain": [
       "      fuel_type_code_pudl  fuel_qty_burned\n",
       "0                    coal        5377489.0\n",
       "1                    coal       10486945.0\n",
       "1380                 coal        5266522.0\n",
       "1381                 coal       10379108.0\n",
       "3186                 coal        5090798.0\n",
       "...                   ...              ...\n",
       "27954                 gas        4007761.0\n",
       "28785                coal        3386119.0\n",
       "28786                 oil          14781.0\n",
       "28787                coal        6772238.0\n",
       "28788                 oil          29563.0\n",
       "\n",
       "[97 rows x 2 columns]"
      ]
     },
     "execution_count": 19,
     "metadata": {},
     "output_type": "execute_result"
    }
   ],
   "source": [
    "df1 = data.loc[data['utility_id_ferc1']==1, ['fuel_type_code_pudl', 'fuel_qty_burned']]\n",
    "df1"
   ]
  },
  {
   "cell_type": "code",
   "execution_count": 20,
   "metadata": {},
   "outputs": [
    {
     "data": {
      "text/plain": [
       "array(['coal', 'oil', 'gas'], dtype=object)"
      ]
     },
     "execution_count": 20,
     "metadata": {},
     "output_type": "execute_result"
    }
   ],
   "source": [
    "df1['fuel_type_code_pudl'].unique()"
   ]
  },
  {
   "cell_type": "code",
   "execution_count": 21,
   "metadata": {},
   "outputs": [
    {
     "data": {
      "text/html": [
       "<div>\n",
       "<style scoped>\n",
       "    .dataframe tbody tr th:only-of-type {\n",
       "        vertical-align: middle;\n",
       "    }\n",
       "\n",
       "    .dataframe tbody tr th {\n",
       "        vertical-align: top;\n",
       "    }\n",
       "\n",
       "    .dataframe thead th {\n",
       "        text-align: right;\n",
       "    }\n",
       "</style>\n",
       "<table border=\"1\" class=\"dataframe\">\n",
       "  <thead>\n",
       "    <tr style=\"text-align: right;\">\n",
       "      <th></th>\n",
       "      <th>fuel type</th>\n",
       "      <th>quantity</th>\n",
       "    </tr>\n",
       "  </thead>\n",
       "  <tbody>\n",
       "    <tr>\n",
       "      <th>0</th>\n",
       "      <td>coal</td>\n",
       "      <td>347570193.0</td>\n",
       "    </tr>\n",
       "    <tr>\n",
       "      <th>1</th>\n",
       "      <td>oil</td>\n",
       "      <td>1232225.0</td>\n",
       "    </tr>\n",
       "    <tr>\n",
       "      <th>2</th>\n",
       "      <td>gas</td>\n",
       "      <td>268365016.0</td>\n",
       "    </tr>\n",
       "  </tbody>\n",
       "</table>\n",
       "</div>"
      ],
      "text/plain": [
       "  fuel type     quantity\n",
       "0      coal  347570193.0\n",
       "1       oil    1232225.0\n",
       "2       gas  268365016.0"
      ]
     },
     "execution_count": 21,
     "metadata": {},
     "output_type": "execute_result"
    }
   ],
   "source": [
    "d=[]\n",
    "for source in df1['fuel_type_code_pudl'].unique():\n",
    "    d.append(df1[(df1['fuel_type_code_pudl']==source)]['fuel_qty_burned'].sum())\n",
    "df3= pd.DataFrame({'fuel type':df1['fuel_type_code_pudl'].unique(), 'quantity': d })\n",
    "df3"
   ]
  },
  {
   "cell_type": "code",
   "execution_count": 22,
   "metadata": {},
   "outputs": [
    {
     "data": {
      "image/png": "[encoded data removed]",
      "text/plain": [
       "<Figure size 576x576 with 1 Axes>"
      ]
     },
     "metadata": {},
     "output_type": "display_data"
    }
   ],
   "source": [
    "plt.figure(figsize=(8,8))\n",
    "x1=df3['quantity']\n",
    "labels = df3['fuel type']\n",
    "plt.pie(x1, labels = labels, explode=[0.01,0.01,0.01], startangle = 45, autopct= '%1.1f%%');"
   ]
  },
  {
   "cell_type": "markdown",
   "metadata": {},
   "source": [
    "Using, utility_id_ferc1 is 1:\n",
    "* The mix involves only Coal, Gas and Oil all through the year\n",
    "* Although Oil is not significantly used in comparism to the others, Coal emerged as most used with 56.3% of total fuel burnt by utility 1. And Gas following right behind it with 43.5% burnt all through the record years"
   ]
  }
 ],
 "metadata": {
  "kernelspec": {
   "display_name": "Python 3",
   "language": "python",
   "name": "python3"
  },
  "language_info": {
   "codemirror_mode": {
    "name": "ipython",
    "version": 3
   },
   "file_extension": ".py",
   "mimetype": "text/x-python",
   "name": "python",
   "nbconvert_exporter": "python",
   "pygments_lexer": "ipython3",
   "version": "3.6.1"
  }
 },
 "nbformat": 4,
 "nbformat_minor": 2
}
